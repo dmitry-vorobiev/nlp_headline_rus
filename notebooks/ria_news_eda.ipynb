{
 "cells": [
  {
   "cell_type": "code",
   "execution_count": 1,
   "metadata": {},
   "outputs": [],
   "source": [
    "import numpy as np\n",
    "import matplotlib.pyplot as plt\n",
    "\n",
    "import re\n",
    "import sys\n",
    "import torch\n",
    "\n",
    "import datasets\n",
    "import transformers\n",
    "\n",
    "from datasets import load_dataset\n",
    "from transformers import AutoTokenizer, EncoderDecoderModel"
   ]
  },
  {
   "cell_type": "code",
   "execution_count": 2,
   "metadata": {},
   "outputs": [],
   "source": [
    "CACHE_DIR = \"/media/dmitry/data/huggingface/cache_test\"\n",
    "MODEL_NAME = \"DeepPavlov/rubert-base-cased\""
   ]
  },
  {
   "cell_type": "code",
   "execution_count": 3,
   "metadata": {},
   "outputs": [
    {
     "name": "stderr",
     "output_type": "stream",
     "text": [
      "Using custom data configuration default\n",
      "Reusing dataset json (/media/dmitry/data/huggingface/cache_test/json/default-2ed633deaf6ae9cd/0.0.0/70d89ed4db1394f028c651589fcab6d6b28dddcabbe39d3b21b4d41f9a708514)\n"
     ]
    }
   ],
   "source": [
    "dataset = load_dataset('json', \n",
    "                       data_files='../../ria_news_dataset/ria.json.gz', \n",
    "                       split='train', \n",
    "                       cache_dir=CACHE_DIR)"
   ]
  },
  {
   "cell_type": "code",
   "execution_count": 4,
   "metadata": {},
   "outputs": [
    {
     "data": {
      "text/plain": [
       "Dataset({\n",
       "    features: ['text', 'title'],\n",
       "    num_rows: 1003869\n",
       "})"
      ]
     },
     "execution_count": 4,
     "metadata": {},
     "output_type": "execute_result"
    }
   ],
   "source": [
    "dataset"
   ]
  },
  {
   "cell_type": "code",
   "execution_count": 5,
   "metadata": {},
   "outputs": [
    {
     "name": "stderr",
     "output_type": "stream",
     "text": [
      "Loading cached processed dataset at /media/dmitry/data/huggingface/cache_test/json/default-2ed633deaf6ae9cd/0.0.0/70d89ed4db1394f028c651589fcab6d6b28dddcabbe39d3b21b4d41f9a708514/cache-ec432cb18499295c.arrow\n"
     ]
    }
   ],
   "source": [
    "def clean_html_tags(s: str) -> str:\n",
    "    s = re.sub('</?[\\w\\W]+?>', ' ', s)\n",
    "    s = re.sub('\\n|&nbsp;', ' ', s)\n",
    "    s = re.sub('&(m|n)?dash;', ' – ', s)\n",
    "    s = re.sub('&lt;', '<', s)\n",
    "    s = re.sub('&gt;', '>', s)\n",
    "    # s = re.sub(r\"\\'\", \"'\", s)\n",
    "    s = re.sub('&rsquo;', '’', s)\n",
    "    s = re.sub('&hellip;', '…', s)\n",
    "    s = re.sub('&amp;', '&', s)\n",
    "    s = re.sub('\\s\\s+', ' ', s)\n",
    "    return dict(text=s)\n",
    "\n",
    "\n",
    "dataset = dataset.map(clean_html_tags, input_columns='text')"
   ]
  },
  {
   "cell_type": "code",
   "execution_count": 6,
   "metadata": {},
   "outputs": [
    {
     "name": "stderr",
     "output_type": "stream",
     "text": [
      "Loading cached split indices for dataset at /media/dmitry/data/huggingface/cache_test/json/default-2ed633deaf6ae9cd/0.0.0/70d89ed4db1394f028c651589fcab6d6b28dddcabbe39d3b21b4d41f9a708514/cache-d2e124c2a34770fa.arrow and /media/dmitry/data/huggingface/cache_test/json/default-2ed633deaf6ae9cd/0.0.0/70d89ed4db1394f028c651589fcab6d6b28dddcabbe39d3b21b4d41f9a708514/cache-6f6752db9f66257a.arrow\n"
     ]
    },
    {
     "data": {
      "text/plain": [
       "DatasetDict({\n",
       "    train: Dataset({\n",
       "        features: ['text', 'title'],\n",
       "        num_rows: 903869\n",
       "    })\n",
       "    test: Dataset({\n",
       "        features: ['text', 'title'],\n",
       "        num_rows: 100000\n",
       "    })\n",
       "})"
      ]
     },
     "execution_count": 6,
     "metadata": {},
     "output_type": "execute_result"
    }
   ],
   "source": [
    "split = dataset.train_test_split(test_size=100_000, shuffle=False)\n",
    "\n",
    "split"
   ]
  },
  {
   "cell_type": "code",
   "execution_count": 7,
   "metadata": {},
   "outputs": [],
   "source": [
    "train_data = split['train']\n",
    "val_data = split['test']"
   ]
  },
  {
   "cell_type": "code",
   "execution_count": 8,
   "metadata": {},
   "outputs": [
    {
     "data": {
      "text/plain": [
       "['большинство детей, которых пытались увезти в сша из гаити, не сироты',\n",
       " 'луценко будет работать в команде тимошенко, если она победит в выборах',\n",
       " '\"лютые\" выборы: есть ли вероятность второго майдана?',\n",
       " 'жертвами бойни на севере мексики стали 13 молодых людей, еще 20 ранены',\n",
       " 'немец беррер выиграл теннисный турнир на родине         ',\n",
       " 'переходное торговое соглашение сербии с ес вступает в силу 1 февраля',\n",
       " 'генсек оон уверен в успехе мирных переговоров на кипре',\n",
       " '\"байер\" вернулся в лидеры чемпионата германии по футболу         ',\n",
       " 'генсек оон прибыл на кипр, чтобы помочь мирным переговорам',\n",
       " 'ликвидирован пожар в гаражном кооперативе на западе москвы']"
      ]
     },
     "execution_count": 8,
     "metadata": {},
     "output_type": "execute_result"
    }
   ],
   "source": [
    "dataset[:10]['title']"
   ]
  },
  {
   "cell_type": "code",
   "execution_count": 9,
   "metadata": {},
   "outputs": [
    {
     "data": {
      "text/plain": [
       "['большинство детей, которых пытались увезти в сша из гаити, не сироты',\n",
       " 'луценко будет работать в команде тимошенко, если она победит в выборах',\n",
       " '\"лютые\" выборы: есть ли вероятность второго майдана?',\n",
       " 'жертвами бойни на севере мексики стали 13 молодых людей, еще 20 ранены',\n",
       " 'немец беррер выиграл теннисный турнир на родине         ',\n",
       " 'переходное торговое соглашение сербии с ес вступает в силу 1 февраля',\n",
       " 'генсек оон уверен в успехе мирных переговоров на кипре',\n",
       " '\"байер\" вернулся в лидеры чемпионата германии по футболу         ',\n",
       " 'генсек оон прибыл на кипр, чтобы помочь мирным переговорам',\n",
       " 'ликвидирован пожар в гаражном кооперативе на западе москвы']"
      ]
     },
     "execution_count": 9,
     "metadata": {},
     "output_type": "execute_result"
    }
   ],
   "source": [
    "train_data[:10]['title']"
   ]
  },
  {
   "cell_type": "code",
   "execution_count": 10,
   "metadata": {},
   "outputs": [
    {
     "data": {
      "text/plain": [
       "['кабмин обсудит выделение крыму 895 млн руб на развитие \"артека\"',\n",
       " 'королева из среднего класса: телеведущая вступает на испанский престол',\n",
       " 'китайский миллиардер проведет благотворительный ужин в нью-йорке',\n",
       " 'акустическую систему безопасности людей на ж/д готовят к испытаниям',\n",
       " 'в обсе призвали участников женевских дискуссий к предметному диалогу',\n",
       " 'депутатов рады на время заседаний оставят без еды, сообщают сми',\n",
       " 'каждый день в мире появляются 130 новых миллионеров, пишут сми',\n",
       " 'симоненко назвал фейком запись о якобы поставках кпу оружия ополченцам',\n",
       " 'водоснабжение краматорска, дружковки и константиновки восстанавливают',\n",
       " 'славянск парализован: в городе нет воды, электричества и медицины']"
      ]
     },
     "execution_count": 10,
     "metadata": {},
     "output_type": "execute_result"
    }
   ],
   "source": [
    "dataset[-100_000:-99_990]['title']"
   ]
  },
  {
   "cell_type": "code",
   "execution_count": 11,
   "metadata": {},
   "outputs": [
    {
     "data": {
      "text/plain": [
       "['кабмин обсудит выделение крыму 895 млн руб на развитие \"артека\"',\n",
       " 'королева из среднего класса: телеведущая вступает на испанский престол',\n",
       " 'китайский миллиардер проведет благотворительный ужин в нью-йорке',\n",
       " 'акустическую систему безопасности людей на ж/д готовят к испытаниям',\n",
       " 'в обсе призвали участников женевских дискуссий к предметному диалогу',\n",
       " 'депутатов рады на время заседаний оставят без еды, сообщают сми',\n",
       " 'каждый день в мире появляются 130 новых миллионеров, пишут сми',\n",
       " 'симоненко назвал фейком запись о якобы поставках кпу оружия ополченцам',\n",
       " 'водоснабжение краматорска, дружковки и константиновки восстанавливают',\n",
       " 'славянск парализован: в городе нет воды, электричества и медицины']"
      ]
     },
     "execution_count": 11,
     "metadata": {},
     "output_type": "execute_result"
    }
   ],
   "source": [
    "val_data[:10]['title']"
   ]
  },
  {
   "cell_type": "code",
   "execution_count": 12,
   "metadata": {},
   "outputs": [],
   "source": [
    "tokenizer = AutoTokenizer.from_pretrained(MODEL_NAME, cache_dir=CACHE_DIR)\n",
    "tokenizer.bos_token = tokenizer.cls_token\n",
    "tokenizer.eos_token = tokenizer.sep_token"
   ]
  },
  {
   "cell_type": "code",
   "execution_count": 13,
   "metadata": {},
   "outputs": [],
   "source": [
    "def create_preprocess_fn(tokenizer):\n",
    "    def _preprocess_fn(batch):\n",
    "        text_tokens = tokenizer(batch[\"text\"], padding=False, truncation=False)\n",
    "        title_tokens = tokenizer(batch[\"title\"], padding=False, truncation=False)\n",
    "\n",
    "        batch[\"text_tokens\"] = text_tokens.input_ids\n",
    "        batch[\"title_tokens\"] = title_tokens.input_ids\n",
    "        return batch\n",
    "\n",
    "    return _preprocess_fn"
   ]
  },
  {
   "cell_type": "code",
   "execution_count": 14,
   "metadata": {},
   "outputs": [
    {
     "data": {
      "application/vnd.jupyter.widget-view+json": {
       "model_id": "29de879e65c64f05adb0d2f1becdcbb0",
       "version_major": 2,
       "version_minor": 0
      },
      "text/plain": [
       "HBox(children=(FloatProgress(value=0.0, max=904.0), HTML(value='')))"
      ]
     },
     "metadata": {},
     "output_type": "display_data"
    },
    {
     "name": "stdout",
     "output_type": "stream",
     "text": [
      "\n"
     ]
    }
   ],
   "source": [
    "train_data = train_data.map(\n",
    "    create_preprocess_fn(tokenizer), \n",
    "    batched=True,\n",
    "    remove_columns=[\"text\", \"title\"]\n",
    ")"
   ]
  },
  {
   "cell_type": "code",
   "execution_count": 15,
   "metadata": {},
   "outputs": [
    {
     "data": {
      "application/vnd.jupyter.widget-view+json": {
       "model_id": "656a046b38de49f097ca31824106cf11",
       "version_major": 2,
       "version_minor": 0
      },
      "text/plain": [
       "HBox(children=(FloatProgress(value=0.0, max=903869.0), HTML(value='')))"
      ]
     },
     "metadata": {},
     "output_type": "display_data"
    },
    {
     "name": "stdout",
     "output_type": "stream",
     "text": [
      "\n"
     ]
    }
   ],
   "source": [
    "def calc_len(row):\n",
    "    return dict(\n",
    "        text_tokens=len(row[\"text_tokens\"]),\n",
    "        title_tokens=len(row[\"title_tokens\"]), \n",
    "    )\n",
    "\n",
    "lengths = train_data.map(calc_len)"
   ]
  },
  {
   "cell_type": "code",
   "execution_count": 28,
   "metadata": {},
   "outputs": [
    {
     "data": {
      "image/png": "[encoded data removed]",
      "text/plain": [
       "<Figure size 1152x432 with 1 Axes>"
      ]
     },
     "metadata": {
      "needs_background": "light"
     },
     "output_type": "display_data"
    }
   ],
   "source": [
    "plt.figure(figsize=(16, 6))\n",
    "plt.hist(lengths[\"text_tokens\"],  bins=100, range=(0, 2048))\n",
    "plt.xticks(range(0, 2048, 128))\n",
    "plt.show()"
   ]
  },
  {
   "cell_type": "code",
   "execution_count": 34,
   "metadata": {},
   "outputs": [
    {
     "data": {
      "image/png": "[encoded data removed]",
      "text/plain": [
       "<Figure size 1152x432 with 1 Axes>"
      ]
     },
     "metadata": {
      "needs_background": "light"
     },
     "output_type": "display_data"
    }
   ],
   "source": [
    "plt.figure(figsize=(16, 6))\n",
    "plt.hist(lengths[\"title_tokens\"],  bins=100, range=(0, 48))\n",
    "plt.xticks(range(0, 48, 4))\n",
    "plt.show()"
   ]
  },
  {
   "cell_type": "code",
   "execution_count": 27,
   "metadata": {},
   "outputs": [
    {
     "data": {
      "image/png": "[encoded data removed]",
      "text/plain": [
       "<Figure size 1152x432 with 1 Axes>"
      ]
     },
     "metadata": {
      "needs_background": "light"
     },
     "output_type": "display_data"
    }
   ],
   "source": [
    "plt.figure(figsize=(16, 6))\n",
    "plt.hist(lengths[\"text_tokens\"],  bins=100, range=(0, 2048), cumulative=True)\n",
    "plt.xticks(range(0, 2048, 128))\n",
    "plt.show()"
   ]
  },
  {
   "cell_type": "code",
   "execution_count": 38,
   "metadata": {
    "scrolled": false
   },
   "outputs": [
    {
     "data": {
      "text/plain": [
       "[' москва, 31 янв - риа новости. большая часть из 33 детей, которых граждане сша пытались вывезти из гаити в организованный в доминиканской республике приют, не являются сиротами, сообщает в воскресенье агентство франс пресс со ссылкой на заявление представителя международной организации \"детские деревни sos\" (sos children\\'s village), оказывающей помощь детям, оставшимся без родителей как заявила агентству патрисия варгас (patricia vargas), курирующая программы \"детских деревень sos\" в центральной америке, мексике и на карибах, поговорив с детьми она выяснила, что родители многих из них живы. некоторые дети смогли назвать свои домашние адреса и номера телефонов, что дает возможность связаться с их родителями. в это воскресенье гаитянская полиция задержала десятерых граждан сша , подозреваемых в попытке без разрешения вывезти более 30 детей в доминиканскую республику. представитель баптистской церкви в городе меридиан американского штата айдахо шон лэнкфорд (sean lankford) заявил, что задержанные прибыли на гаити в составе группы, помогающей детям, которые остались без родителей после разрушительного землетрясения 12 января. лэнкфорд также сообщил, что в числе задержанных его дочь и жена, и они думали, что у них имеются все необходимые документы, позволяющие вывезти детей в организованный в доминиканской республике приют. в настоящее время все эти дети, за исключением маленькой девочки, страдающей от истощения, которая была госпитализирована, находятся в благотворительном центре организации в городе круа-де-букет (croix des bouquets), расположенном в 12 километрах к северо-востоку от столицы гаити порт-о-пренса. по словам варгас, точный возраст малышки не известен, врачи полагают, что ей около 7 месяцев. центр \"детских деревень sos\" на гаити юридически не является сиротским приютом и не отдает детей на усыновление. ранее гаитянские интернет-ресурсы сообщали, что за детьми, оставшимися сиротами после землетрясения, охотятся педофилы и торговцы людьми >> как отмечает франс пресс, после разгула стихии на гаити были установлены новые правила усыновления, согласно которым премьер-министр страны жан-макс бельрив должен лично разрешить вывоз сирот. целью подобных мер является пресечение попыток незаконного вывоза детей для преступных целей в условиях хаоса, царящего в стране после разгула стихии. по данным ответственных лиц на гаити, тысячи детей могли быть разлучены с родителями или лишиться их в результате двух землетрясений магнитудой 7 и 5,9 , произошедших у побережья этого островного государства 12 января. ',\n",
       " ' киев, 31 янв - риа новости, марина шмаюн. премьер-министр украины, кандидат в президенты юлия тимошенко в воскресенье в прямом эфире украинского телеканала 1+1 заявила, что в случае ее победы на выборах президента юрий луценко будет работать в ее команде. 17 января в украине состоялся первый тур выборов президента, по итогам которого виктор янукович набрал 35,32% голосов, а премьер-министр страны юлия тимошенко оказалась на втором месте с результатом 25,05% . второй тур выборов президента украины состоится 7 февраля . парламент украины по инициативе партии регионов 28 января отправил в отставку главу мвд юрия луценко , однако премьер-министр юлия тимошенко внесла в кабмин его кандидатуру на утверждение первым замминистра внутренних дел с полномочиями и.о. министра. правительство единогласно поддержало это предложение. партия регионов оспорила это решение кабмина в суде. \"что касается новых назначений, то знаете, как народная мудрость гласит: не нужно говорить \"гоп\", пока еще не произошло событие. потому я считаю, что нужно сначала выиграть выборы, обсудить все вопросы создания новой команды, и я убеждена, что юрий луценко в команде будет работать\", - сказала тимошенко. ',\n",
       " ' киев, 31 янв - риа новости. до 7 февраля - того дня, когда граждане украины решат, кто на ближайшие пять лет возьмет бразды правления страной в свои руки, - осталась ровно неделя. на пост президента претендуют, как и предсказывали последний год, все те же два человека - действующий премьер-министр юлия тимошенко, чье имя носит одноименный политический блок (бют), и бывший премьер, лидер оппозиционной партии регионов виктор янукович. сделать выбор для многих на украине будет непросто - оба политика уже порядком поднадоели согражданам, и многие из них раздумывают, голосовать ли за кого-либо из них, либо против всех, либо вообще не прийти на избирательный участок. последнее становится еще более актуальным \"благодаря\" мэру киева леониду черновецкому - не расчищенные коммунальщиками ледяные \"торосы\" на тротуарах отнюдь не способствуют желанию гулять по зимней столице. к тому же \"лютый\" - так по-украински называется февраль - оправдывает свое имя: вскорости после оттепели в самом начале месяца синоптики прогнозируют снижение температуры до минус восьми - минус 10 градусов. закрытые опросы: кто кого и кто над кем? официально на украине публикация каких-либо социологических опросов о благосклонности граждан к тому или иному политику, участвующему в президентской гонке, запрещена за 15 дней до начала голосования. так как дата второго тура была объявлена за пару недель до \"времени \"ч\", из собственных сми народ так и не узнает, за кого он предпочтет голосовать. однако штабы кандидатов не могут находиться в вакууме, вот и заказывают так называемые закрытые соцопросы. социологи стараются, опрашивают, рисуют графики, но не всегда эти данные имеют статистическую погрешность - уж очень хочется угодить борцам за президентское кресло. тем не менее подавляющее большинство из них предрекают победу януковичу, а вот степень его отрыва от тимошенко у всех разная. одни считают, что она будет минимальная - 3-5%, а вот другие, наоборот, предрекают отрыв главного \"регионала\" от \"дамы с косой\" даже больше, чем было в первом туре. (семнадцатого января разница составила 10%: янукович собрал 35,32% голосов, у тимошенко - 25,05% ). нового президента украины объявят при любом разрыве между кандидатами >> аналитики украинской компании research&branding group, которые проводили опросы еще до официального объявления даты второго тура, считают, что выиграет янукович. опрос проводился в 24-х областях украины и в автономной республике крым, было опрошено 3 тысячи 108 человек. социологи считают, что по украине в целом тимошенко наберет 31,6%, янукович - 44,9%, против всех проголосуют 9,2% граждан страны, а игнорировать выборы собираются 4% опрошенных. согласно этому опросу, во втором туре за тимошенко на западе украины готовы отдать голоса 60,6% избирателей, в центральной украине - 42%, а на юго-востоке страны - 11,9%. в то же время за януковича во втором туре на западной украине собираются голосовать всего 14,2% избирателей, в центральной части страны - 29,3%, а юго-восток готов отдать лидеру партии регионов 69,2% голосов. однако, проигрывая в борьбе за кресло главы государства, юлии владимировне удалось подняться над виктором федоровичем по крайней мере на предвыборных щитах, расставленных в центре города вдоль здания киевского главпочтамта, где над каждым стендом с портретом януковича висит неумолимая тимошенко, призывающая сограждан выбрать новый путь их общей страны. смотреть п рогнозы по второму туру выборов на украине >> бой тяжеловесов за 10 дней до выборов партии регионов удалось нанести очень серьезный удар по позиции тимошенко: на заседании в парламенте было принято решение об отставке одного из наиболее активных сторонников \"премьер-леди\" - главы мвд страны юрия луценко. за его уход с этого поста проголосовал 231 депутат при необходимых 226 голосах. во фракции партии регионов возликовали: все, нокаут, большой бой закончен. в ответ тимошенко показала, что это всего лишь легкий нокдаун - буквально через пару часов на внеочередном заседании правительства луценко был назначен первым замом главы мвд и исполняющим обязанности министра. таким образом, она не только сумела отыграть очки, но и показать, что эта ситуация для ее штаба уже была спрогнозирована и очень не слабая команда аналитиков сумела подготовить варианты выхода из этой ситуации. о том, как луценко слетел, но очень быстро вернулся >> оглушенные таким ответом, \"регионалы\" пострадали-пострадали и сделали еще один ход: подали иск в суд. окружной административный суд киева приостановил действие решения кабинета министров , и луценко снова лишился только что отвоеванного поста руководителя мвд. правительство назвало информацию о решении суда ложью, сам же суд ситуацию пока не комментирует. каким будет окончательный счет в этом поединке политических супертяжеловесов, пока непонятно. по мнению генерального прокурора страны александра медведько, \"в данном случае должен руководить органами внутренних дел первый заместитель клюев михаил михайлович\". \"если есть решение суда, его нужно исполнять\", - сказал он. майдан сейчас больше синий агитационная кампания в преддверии второго тура проходит, по мнению корреспондентов риа новости, ни шатко, ни валко. в особенности это относится к тимошенко. и на майдане, и в других районах киева, синих палаток \"регионалов\" в разы больше, чем бело-красных палаток бютовцев. да и агитационной продукции у сторонников януковича больше. вернее, она там есть: и листовки, и календарики; правда, плакатов уже не осталось. \"они давно кончились, еще в январе\", - сказала в одной из палаток бойкая агитаторша. \"но вы календарики возьмите, я вам еще и программу дам, чтобы вы почитали\", - добавила она. в пунктах агитации за тимошенко скучающие юноши и девушки студенческого возраста смогли предложить избирателям лишь январский спецвыпуск киевской газетки с тиражом 30 тысяч экземпляров, заверив, правда, что она все еще пользуется популярностью - \"берет народ...\". тем не менее складывается ощущение, что никто ни за кого агитировать - по крайней мере, на улицах - не собирается, хотя, может быть, это чисто киевская проблема. что же касается билбордов или щитов, то пиар-команда тимошенко решила изменить имидж своей начальницы. если в период \"первотурья\" она улыбалась рядом с белым тигром, то сейчас на проезжающих по дорогам столицы смотрит очень строгая женщина, с жестким выражением лица и слегка улыбающимися глазами. именно так, по мнению пиарщиков юлии владимировны, должен выглядеть политик, способный к тяжелой, бескомпромиссной и затяжной борьбе. в мрачное подземелье киевского метро спустился только один из кандидатов - янукович, который с плакатов по-отечески следит за теми, кто проезжает по эскалатору. ждет ли киев новый майдан? прогнозы политологов на победу януковича заставляют задуматься, что же в этом случае предпримет тимошенко. и вот тут мнения аналитиков - а еще больше их подходы - начинают разниться. большинство единодушны: \"победит витя, а юля выведет людей на улицу\". а насчет того, когда и из-за чего, есть три основных варианта. первый вариант, при котором все международные наблюдатели, в том числе западные, признают выборы, для тимошенко тупиковый. людей-то вывести можно, но толку от этого - никакого. при варианте \"1а\" \"западники\" - или хотя бы часть из них - результатов не признают, и тут счастья в штабе тимошенко будет много. можно и митинговать, и попытаться повторить ситуацию рубежа 2004-2005 годов с его \"сказочным\" третьим туром. вариант два подразумевает, что разрыв между кандидатами составит 10-15%, и выборы будут признаны демократическими. в таком случае шансов у тимошенко мало и уже непонятно, выйдут ли на улицу ее сторонники. при третьем варианте разрыв будет менее 5%, и тут - вне зависимости от поддержки наблюдателей с запада - вступает в действие вариант \"1а\", то есть тимошенко выводит людей на майдан. корреспонденты риа новости опросили ведущих украинских политологов, которые должны были выбрать один из вышеперечисленных вариантов или предложить свой. их цитаты намеренно сведены до коротких, рубленых фраз без их обычного многословия. \"судебные иски (со стороны тимошенко) и народ на улицах будут наверняка. как со стороны януковича (контроль над ключевыми местами столицы, чтобы \"не было чего\"), так и со стороны тимошенко. она будет добиваться компромисса: янукович - президент, тимошенко - премьер. разрыв будет около 5%\", - сказал председатель правления центра прикладных политических исследований \"пента\" владимир фесенко. в свою очередь, директор киевского института проблем управления имени горшенина кость бондаренко отметил, что \"разрыв между кандидатами составит 5-7%, и возможны масштабные фальсификации на разных этапах голосования\". \"это главная проблема второго тура. а тимошенко вряд ли сможет много людей вывести на улицу\", - отметил эксперт. по прогнозу директора института глобальных стратегий вадима карасева, \"янукович обгонит тимошенко не более, чем на 5%, и в этом случае международные наблюдатели не будут единодушны\". \"масштабные фальсификации практически невозможны, так как контроль с обоих сторон будет очень сильный. окончательное решение все-таки будет за цик и судом, а тимошенко все-таки выведет своих сторонников на улицу\", - сказал политолог. в свою очередь, российский политолог алексей власов, возглавляющий центр постсоветских исследований мгу имени ломоносова, считает, что следует ожидать \"победы януковича с отрывом от тимошенко около 10%, при стандартной статистической погрешности\". \"тимошенко поставит под сомнение результаты выборов и выведет своих сторонников на улицу (проблема только в количестве людей, миллиона уже не будет) если разрыв между двумя кандидатами составит менее 5%. большинство наблюдателей признает выборы легитимными, но можно допустить, что непонятные \"грузинские парни\" могут искусственно создать проблемы на ряде избирательных участков\", - сказал он. молитва патриарха не остались в стороне от политической ситуации на украине и духовные лидеры. так, глава украинской греко-католической церкви (угкц) любомир гузар призвал верующих прийти 7 февраля на избирательные участки, и голосовать не против всех, а поддержать одного из кандидатов. в партии регионов сочли это агитацией за тимошенко, так как угкц имеет сильные позиции на западе страны, где большинство населения поддерживает \"даму с косой\". паства церкви, по ее данным, насчитывает 5,5 миллиона человек. из россии же пришел другой голос, не агитирующий, а успокаивающий. патриарх московский и всея руси кирилл, совершивший в прошлом году поездку на украину, молится о правильном выборе украинского народа . \"я молюсь, чтобы и выбор был сделан правильный и чтобы вот это политическое землетрясение на украине прекратилось как можно быстрее\", - сказал патриарх в воскресенье в интервью программе \"воскресное время\". он пожелал успеха украинскому народу: \"дай бог, чтобы был сделан правильный выбор. чтобы последующее развитие событий не провоцировало возникновение непреодолимых конфликтов... и никаких конфликтов и никакого противостояния быть не должно. и политикам нужно осознать, что вместе надо решать задачи, даже если есть какие-то различия\". \"для меня украинский народ - это мой народ. я не делю в своем сознании русских и украинцев. и вот в этом смысле я думаю очень важно нам сохранять это духовное единство с полным уважением суверенитета. тогда наша восточная европейская православная цивилизация будет важным фактором в международных отношениях и вообще в жизни всего человеческого рода. это если оценивать со светской точки зрения. а если с духовной, то мы сильнее духовно, когда мы все вместе. поэтому я желаю успеха украинскому народу\", - заявил предстоятель русской православной церкви. ']"
      ]
     },
     "execution_count": 38,
     "metadata": {},
     "output_type": "execute_result"
    }
   ],
   "source": [
    "dataset[:3]['text']"
   ]
  }
 ],
 "metadata": {
  "kernelspec": {
   "display_name": "Python 3",
   "language": "python",
   "name": "python3"
  },
  "language_info": {
   "codemirror_mode": {
    "name": "ipython",
    "version": 3
   },
   "file_extension": ".py",
   "mimetype": "text/x-python",
   "name": "python",
   "nbconvert_exporter": "python",
   "pygments_lexer": "ipython3",
   "version": "3.6.9"
  }
 },
 "nbformat": 4,
 "nbformat_minor": 4
}
